{
 "cells": [
  {
   "cell_type": "code",
   "execution_count": 5,
   "id": "7e54902d-1122-4927-bf59-ebdb7da55172",
   "metadata": {},
   "outputs": [],
   "source": [
    "import tkinter as tk\n",
    "from tkinter import filedialog, messagebox\n",
    "import pyautogui\n",
    "import datetime\n",
    "import os\n",
    "\n",
    "# Default save directory\n",
    "save_dir = \"D:/Screenshots\"  # you can change this default\n",
    "\n",
    "def take_screenshot():\n",
    "    global save_dir\n",
    "    # Make sure save directory exists\n",
    "    if not os.path.exists(save_dir):\n",
    "        os.makedirs(save_dir)\n",
    "\n",
    "    # Filename with timestamp\n",
    "    timestamp = datetime.datetime.now().strftime(\"%Y-%m-%d_%H-%M-%S\")\n",
    "    filepath = os.path.join(save_dir, f\"screenshot_{timestamp}.png\")\n",
    "\n",
    "    # Take screenshot\n",
    "    screenshot = pyautogui.screenshot()\n",
    "    screenshot.save(filepath)\n",
    "\n",
    "    messagebox.showinfo(\"Screenshot Taken\", f\"✅ Saved at:\\n{filepath}\")\n",
    "\n",
    "def choose_folder():\n",
    "    global save_dir\n",
    "    folder = filedialog.askdirectory()\n",
    "    if folder:\n",
    "        save_dir = folder\n",
    "        lbl_folder.config(text=f\"Save Folder: {save_dir}\")\n",
    "\n",
    "# --- GUI Setup ---\n",
    "root = tk.Tk()\n",
    "root.title(\"Screenshot App\")\n",
    "root.geometry(\"400x200\")\n",
    "root.resizable(False, False)\n",
    "\n",
    "lbl_title = tk.Label(root, text=\"📸 Screenshot App\", font=(\"Arial\", 16, \"bold\"))\n",
    "lbl_title.pack(pady=10)\n",
    "\n",
    "btn_capture = tk.Button(root, text=\"Take Screenshot\", font=(\"Arial\", 12), command=take_screenshot, bg=\"lightblue\")\n",
    "btn_capture.pack(pady=10)\n",
    "\n",
    "btn_folder = tk.Button(root, text=\"Choose Save Folder\", font=(\"Arial\", 12), command=choose_folder, bg=\"lightgreen\")\n",
    "btn_folder.pack(pady=10)\n",
    "\n",
    "lbl_folder = tk.Label(root, text=f\"Save Folder: {save_dir}\", font=(\"Arial\", 10))\n",
    "lbl_folder.pack(pady=5)\n",
    "\n",
    "root.mainloop()\n"
   ]
  },
  {
   "cell_type": "code",
   "execution_count": null,
   "id": "c774bd52-3aa8-404c-9067-3ba9ad023e6c",
   "metadata": {},
   "outputs": [],
   "source": []
  }
 ],
 "metadata": {
  "kernelspec": {
   "display_name": "Python [conda env:base] *",
   "language": "python",
   "name": "conda-base-py"
  },
  "language_info": {
   "codemirror_mode": {
    "name": "ipython",
    "version": 3
   },
   "file_extension": ".py",
   "mimetype": "text/x-python",
   "name": "python",
   "nbconvert_exporter": "python",
   "pygments_lexer": "ipython3",
   "version": "3.12.7"
  }
 },
 "nbformat": 4,
 "nbformat_minor": 5
}
